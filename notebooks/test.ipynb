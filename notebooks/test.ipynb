{
 "cells": [
  {
   "cell_type": "code",
   "execution_count": null,
   "metadata": {},
   "outputs": [],
   "source": [
    "#!pip install pymssql\n",
    "import pymssql\n",
    "\n",
    "# Configura tu conexión\n",
    "conn = pymssql.connect(\n",
    "    server='192.168.100.8',\n",
    "    user='sa',\n",
    "    password='h4ckm3.2024',\n",
    "    database='test-spark'\n",
    ")\n",
    "\n",
    "cursor = conn.cursor()\n",
    "\n",
    "cursor.execute('SELECT TOP 10 * FROM test_1')\n",
    "\n",
    "# Imprimir los resultados de la consulta\n",
    "for row in cursor:\n",
    "    print(row)\n",
    "\n",
    "# Cerrar la conexión\n",
    "conn.close()\n"
   ]
  }
 ],
 "metadata": {
  "language_info": {
   "name": "python"
  }
 },
 "nbformat": 4,
 "nbformat_minor": 2
}
