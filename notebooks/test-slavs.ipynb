{
 "cells": [
  {
   "cell_type": "code",
   "execution_count": null,
   "metadata": {},
   "outputs": [],
   "source": [
    "from pyspark.sql import SparkSession\n",
    "\n",
    "# Crear una sesión de Spark conectada al Spark Master\n",
    "spark = SparkSession.builder.master(\"spark://spark-master:7077\").appName(\"ramiro\").getOrCreate()\n",
    "\n",
    "# Crear un RDD grande\n",
    "data = range(1, 100)  # Un RDD con 100 millones de números\n",
    "rdd = spark.sparkContext.parallelize(data, numSlices=4)  # Distribuir en 4 particiones\n",
    "\n",
    "# Realizar una operación costosa (como sumar todos los elementos)\n",
    "result = rdd.reduce(lambda x, y: x + y)\n",
    "\n",
    "print(f\"Sum of the RDD is: {result}\")"
   ]
  }
 ],
 "metadata": {
  "language_info": {
   "name": "python"
  }
 },
 "nbformat": 4,
 "nbformat_minor": 2
}
